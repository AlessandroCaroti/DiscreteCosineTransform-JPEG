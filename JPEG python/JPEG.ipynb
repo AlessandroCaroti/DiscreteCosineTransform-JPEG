{
 "cells": [
  {
   "cell_type": "code",
   "execution_count": 1,
   "metadata": {},
   "outputs": [
    {
     "data": {
      "text/plain": [
       "<Figure size 640x480 with 1 Axes>"
      ]
     },
     "metadata": {},
     "output_type": "display_data"
    }
   ],
   "source": [
    "# Python program to read  image\n",
    "import cv2\n",
    "import numpy as np\n",
    "import matplotlib.pyplot as plt\n",
    "import matplotlib.image as mpimg\n",
    "from scipy.fftpack import dct\n",
    "from scipy.fftpack import idct\n",
    "from PIL import Image\n",
    "import math\n",
    "\n",
    "img_path = 'C:\\\\Users\\\\carot\\\\Downloads\\\\img.jpg'\n",
    "\n",
    "originalImage = cv2.imread(img_path, 0)\n",
    "\n",
    "img=mpimg.imread(img_path)\n",
    "imgplot = plt.imshow(img)\n",
    "plt.show()"
   ]
  },
  {
   "cell_type": "code",
   "execution_count": 2,
   "metadata": {},
   "outputs": [
    {
     "name": "stdout",
     "output_type": "stream",
     "text": [
      "[[115 112 112 112 108 100  96  98]\n",
      " [113 110 109 110 107 100  97  99]\n",
      " [100  98  97  98  96  92  90  92]\n",
      " [ 86  84  83  85  85  84  85  87]\n",
      " [ 86  84  84  86  89  91  93  94]\n",
      " [ 98  97  97 100 103 107 108 109]\n",
      " [116 115 115 117 121 124 125 124]\n",
      " [131 130 130 131 135 137 137 135]]\n"
     ]
    }
   ],
   "source": [
    "block = originalImage[:8,:8]\n",
    "print(block)"
   ]
  },
  {
   "cell_type": "code",
   "execution_count": 3,
   "metadata": {},
   "outputs": [
    {
     "name": "stdout",
     "output_type": "stream",
     "text": [
      "[[-13 -16 -16 -16 -20 -28 -32 -30]\n",
      " [-15 -18 -19 -18 -21 -28 -31 -29]\n",
      " [-28 -30 -31 -30 -32 -36 -38 -36]\n",
      " [-42 -44 -45 -43 -43 -44 -43 -41]\n",
      " [-42 -44 -44 -42 -39 -37 -35 -34]\n",
      " [-30 -31 -31 -28 -25 -21 -20 -19]\n",
      " [-12 -13 -13 -11  -7  -4  -3  -4]\n",
      " [  3   2   2   3   7   9   9   7]]\n"
     ]
    }
   ],
   "source": [
    "offSet = np.full((8,8),128)\n",
    "f = np.subtract(block, offSet)\n",
    "print(f)"
   ]
  },
  {
   "cell_type": "code",
   "execution_count": 4,
   "metadata": {},
   "outputs": [
    {
     "name": "stdout",
     "output_type": "stream",
     "text": [
      "[[-187.9  0.1 -0.1  2.9  5.4 -0.1  0.2  0.0]\n",
      " [-59.9  30.5 -4.5 -5.0  5.6 -0.5  0.2 -0.2]\n",
      " [ 101.9  12.0 -4.4  0.2  0.3 -0.3  0.3  0.6]\n",
      " [-15.0 -4.9  0.5  0.1 -0.1  0.2  0.4 -0.2]\n",
      " [-9.9  0.2  0.4 -0.1 -0.1  0.2 -0.0  0.6]\n",
      " [-7.5  0.2  0.1 -0.5 -0.1  0.1 -0.1 -0.2]\n",
      " [ 0.1  0.5 -0.5 -0.3 -0.3 -0.2  0.4 -0.4]\n",
      " [ 0.3  0.1 -0.2  0.3 -0.4 -0.0  0.1  0.4]]\n"
     ]
    }
   ],
   "source": [
    "tmp = dct(f, type=2 ,norm='ortho').transpose()\n",
    "T = dct(tmp, type=2 ,norm='ortho').transpose()\n",
    "\n",
    "np.printoptions(suppress=True,precision=10)\n",
    "np.set_printoptions(formatter={'float': '{: 0.1f}'.format})\n",
    "print(T)"
   ]
  },
  {
   "cell_type": "code",
   "execution_count": 5,
   "metadata": {},
   "outputs": [],
   "source": [
    "def new_q(quality_level):\n",
    "    Qmatrix=np.matrix( [[16,11,10,16,24,40,51,61],\n",
    "                        [12,12,14,19,26,58,60,55],\n",
    "                        [14,13,16,24,40,57,69,56],\n",
    "                        [14,17,22,29,51,87,80,62],\n",
    "                        [18,22,37,56,68,109,103,77],\n",
    "                        [24,35,55,64,81,104,113,92],\n",
    "                        [49,64,78,87,103,121,120,101],\n",
    "                        [72,92,95,98,112,100,103,99]])\n",
    "    Qmatrix = Qmatrix.astype(float)\n",
    "    if quality_level>50:\n",
    "        new_QM = Qmatrix*((100-quality_level)/50.0)\n",
    "    else:\n",
    "        new_QM = Qmatrix*(50/quality_level)\n",
    "        \n",
    "    for i in range(8):\n",
    "        for j in range(8):\n",
    "            if new_QM[i,j]<1:\n",
    "                new_QM[i,j] = 1\n",
    "            elif new_QM[i,j]>255:\n",
    "                new_QM[i,j] = 255\n",
    "    return new_QM.astype(int)"
   ]
  },
  {
   "cell_type": "code",
   "execution_count": 6,
   "metadata": {},
   "outputs": [
    {
     "name": "stdout",
     "output_type": "stream",
     "text": [
      "[[-12   0   0   0   0   0   0   0]\n",
      " [ -5   3   0   0   0   0   0   0]\n",
      " [  7   1   0   0   0   0   0   0]\n",
      " [ -1   0   0   0   0   0   0   0]\n",
      " [ -1   0   0   0   0   0   0   0]\n",
      " [  0   0   0   0   0   0   0   0]\n",
      " [  0   0   0   0   0   0   0   0]\n",
      " [  0   0   0   0   0   0   0   0]]\n"
     ]
    }
   ],
   "source": [
    "C = T / new_q(50)\n",
    "np.around(C,0,C)\n",
    "print(C.astype(int))"
   ]
  },
  {
   "cell_type": "code",
   "execution_count": 7,
   "metadata": {},
   "outputs": [],
   "source": [
    "def zigzag(a):\n",
    "    return np.concatenate([np.diagonal(a[::-1,:], k)[::(2*(k % 2)-1)] for k in range(1-a.shape[0], a.shape[0])])    "
   ]
  },
  {
   "cell_type": "code",
   "execution_count": 8,
   "metadata": {},
   "outputs": [
    {
     "name": "stdout",
     "output_type": "stream",
     "text": [
      "[-12, 0, -5, 7, 3, 0, 0, 0, 1, -1, -1, 0, 0, 0, 0, 0, 0, 0, 0, 0, 0, 0, 0, 0, 0, 0, 0, 0, 0, 0, 0, 0, 0, 0, 0, 0, 0, 0, 0, 0, 0, 0, 0, 0, 0, 0, 0, 0, 0, 0, 0, 0, 0, 0, 0, 0, 0, 0, 0, 0, 0, 0, 0, 0]\n"
     ]
    }
   ],
   "source": [
    "z = zigzag(C).astype(int)\n",
    "print('[', end='')\n",
    "for i in range(64):\n",
    "    if i<63:\n",
    "        print(z[i], end=', ')\n",
    "    else:\n",
    "        print(z[i], end='')\n",
    "print(']')"
   ]
  },
  {
   "cell_type": "code",
   "execution_count": 9,
   "metadata": {},
   "outputs": [
    {
     "name": "stdout",
     "output_type": "stream",
     "text": [
      "[[-192    0    0    0    0    0    0    0]\n",
      " [ -60   36    0    0    0    0    0    0]\n",
      " [  98   13    0    0    0    0    0    0]\n",
      " [ -14    0    0    0    0    0    0    0]\n",
      " [ -18    0    0    0    0    0    0    0]\n",
      " [   0    0    0    0    0    0    0    0]\n",
      " [   0    0    0    0    0    0    0    0]\n",
      " [   0    0    0    0    0    0    0    0]]\n"
     ]
    }
   ],
   "source": [
    "R = np.multiply(new_q(50),C)\n",
    "print(R.astype(int))"
   ]
  },
  {
   "cell_type": "code",
   "execution_count": 10,
   "metadata": {},
   "outputs": [
    {
     "name": "stdout",
     "output_type": "stream",
     "text": [
      "[[111 103 101  99  99 101 107 117]\n",
      " [102  91  89  88  89  93 102 114]\n",
      " [ 93  79  81  84  90  97 106 117]\n",
      " [ 81  64  69  78  88  99 109 119]\n",
      " [ 89  75  82  91 101 111 118 124]\n",
      " [118 115 119 124 129 133 133 131]\n",
      " [139 144 146 147 147 145 141 135]\n",
      " [139 144 144 144 143 140 137 133]]\n"
     ]
    }
   ],
   "source": [
    "idct1 = dct(R, type=2 ,norm='ortho').transpose()\n",
    "idct2 = dct(idct1, type=2 ,norm='ortho').transpose()\n",
    "N = np.around(np.add(idct2, offSet), 0)\n",
    "print(N.astype(int))"
   ]
  },
  {
   "cell_type": "code",
   "execution_count": 11,
   "metadata": {},
   "outputs": [
    {
     "name": "stdout",
     "output_type": "stream",
     "text": [
      "[[  4   9  11  13   9  -1 -11 -19]\n",
      " [ 11  19  20  22  18   7  -5 -15]\n",
      " [  7  19  16  14   6  -5 -16 -25]\n",
      " [  5  20  14   7  -3 -15 -24 -32]\n",
      " [ -3   9   2  -5 -12 -20 -25 -30]\n",
      " [-20 -18 -22 -24 -26 -26 -25 -22]\n",
      " [-23 -29 -31 -30 -26 -21 -16 -11]\n",
      " [ -8 -14 -14 -13  -8  -3   0   2]]\n"
     ]
    }
   ],
   "source": [
    "print(np.subtract(block,N).astype(int))"
   ]
  },
  {
   "cell_type": "code",
   "execution_count": 13,
   "metadata": {},
   "outputs": [
    {
     "name": "stdout",
     "output_type": "stream",
     "text": [
      "[[111 103 101  99  99 101 107 117]\n",
      " [102  91  89  88  89  93 102 114]\n",
      " [ 93  79  81  84  90  97 106 117]\n",
      " [ 81  64  69  78  88  99 109 119]\n",
      " [ 89  75  82  91 101 111 118 124]\n",
      " [118 115 119 124 129 133 133 131]\n",
      " [139 144 146 147 147 145 141 135]\n",
      " [139 144 144 144 143 140 137 133]]\n"
     ]
    },
    {
     "data": {
      "image/png": "[encoded data removed]",
      "text/plain": [
       "<Figure size 432x288 with 1 Axes>"
      ]
     },
     "metadata": {
      "needs_background": "light"
     },
     "output_type": "display_data"
    }
   ],
   "source": [
    "print(matrix_img)\n",
    "plt.imshow(matrix_img, 'gray')\n",
    "plt.show()"
   ]
  },
  {
   "cell_type": "code",
   "execution_count": 18,
   "metadata": {},
   "outputs": [
    {
     "name": "stdout",
     "output_type": "stream",
     "text": [
      "[[115 112 112 112 108 100  96  98]\n",
      " [113 110 109 110 107 100  97  99]\n",
      " [100  98  97  98  96  92  90  92]\n",
      " [ 86  84  83  85  85  84  85  87]\n",
      " [ 86  84  84  86  89  91  93  94]\n",
      " [ 98  97  97 100 103 107 108 109]\n",
      " [116 115 115 117 121 124 125 124]\n",
      " [131 130 130 131 135 137 137 135]]\n"
     ]
    },
    {
     "data": {
      "image/png": "[encoded data removed]",
      "text/plain": [
       "<Figure size 432x288 with 1 Axes>"
      ]
     },
     "metadata": {
      "needs_background": "light"
     },
     "output_type": "display_data"
    }
   ],
   "source": [
    "%matplotlib inline \n",
    "print(block)\n",
    "plt.imshow(block, 'gray')\n",
    "plt.show()"
   ]
  },
  {
   "cell_type": "code",
   "execution_count": null,
   "metadata": {},
   "outputs": [],
   "source": []
  }
 ],
 "metadata": {
  "kernelspec": {
   "display_name": "Python 3",
   "language": "python",
   "name": "python3"
  },
  "language_info": {
   "codemirror_mode": {
    "name": "ipython",
    "version": 3
   },
   "file_extension": ".py",
   "mimetype": "text/x-python",
   "name": "python",
   "nbconvert_exporter": "python",
   "pygments_lexer": "ipython3",
   "version": "3.7.4"
  }
 },
 "nbformat": 4,
 "nbformat_minor": 2
}
